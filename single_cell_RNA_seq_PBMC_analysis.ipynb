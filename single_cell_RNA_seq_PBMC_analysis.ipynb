{
 "cells": [
  {
   "cell_type": "code",
   "execution_count": null,
   "id": "10e89429-3973-4299-ab95-bc776721d783",
   "metadata": {},
   "outputs": [],
   "source": [
    "#import necessary libraries\n",
    "\n",
    "import scanpy as sc\n",
    "import numpy as np\n",
    "import pandas as pd\n",
    "\n",
    "#import plotting\n",
    "import matplotlib.pyplot as plt\n",
    "import seaborn as sns\n",
    "\n",
    "print(\"libraries imported successfully\")"
   ]
  },
  {
   "cell_type": "code",
   "execution_count": null,
   "id": "9bd4eaaa-075c-4fe2-a22a-90fdbb7714b3",
   "metadata": {},
   "outputs": [],
   "source": [
    "#load data\n",
    "\n",
    "adata = sc.datasets.pbmc3k()\n",
    "#this command tells scanpy to download and load the pbmc3k dataset\n",
    "\n",
    "print(adata.n_obs)\n",
    "print(f'Data loaded! Original number of cells: {adata.n_obs}')"
   ]
  },
  {
   "cell_type": "code",
   "execution_count": null,
   "id": "7782e025-9363-41cc-aa56-868fedfcc39c",
   "metadata": {},
   "outputs": [],
   "source": [
    "print(f'staring with {adata.n_obs} cells.')\n",
    "print(adata)"
   ]
  },
  {
   "cell_type": "code",
   "execution_count": null,
   "id": "a5208a8b-3211-4b8e-ac32-d8846b9fb61e",
   "metadata": {},
   "outputs": [],
   "source": [
    "# .var holds the metadata about the genes (variables) \n",
    "# .head() shows the first 5 rows \n",
    "\n",
    "adata.var.head()"
   ]
  },
  {
   "cell_type": "code",
   "execution_count": null,
   "id": "6111b4fa-8046-499a-8e8b-44fbfa751118",
   "metadata": {},
   "outputs": [],
   "source": [
    "# .obs holds the metadata about the cells (observations) \n",
    "# .head() shows the first 5 rows \n",
    "\n",
    "adata.obs.head()"
   ]
  },
  {
   "cell_type": "code",
   "execution_count": null,
   "id": "73fc8b38-683a-4228-8155-08c4f70aabf4",
   "metadata": {},
   "outputs": [],
   "source": [
    "#----QC and filtering---- \n",
    "\n",
    "#finding mitochondrial genes\n",
    "adata.var['mt'] = adata.var_names.str.startswith('MT-')\n",
    "\n",
    "#QC metrics calculation\n",
    "sc.pp.calculate_qc_metrics(adata, qc_vars=['mt'], percent_top=None, log1p=False, inplace=True)\n",
    "print(\"QC metrics calculated! Here is the updated table:\")\n",
    "adata.obs.head()"
   ]
  },
  {
   "cell_type": "code",
   "execution_count": null,
   "id": "10329b93-20b6-456d-8c23-9c7a63a77565",
   "metadata": {},
   "outputs": [],
   "source": [
    "#----QC and filtering---- \n",
    "\n",
    "#violin plot to show the probability density of the data at different values\n",
    "\n",
    "#pl is short for 'plotting'\n",
    "sc.pl.violin(adata, ['n_genes_by_counts', 'total_counts', 'pct_counts_mt'], \n",
    "             jitter= 0.4, multi_panel=True)\n",
    "\n",
    "# jitter=0.4 to add random noise to indiviual points so I can see them better and wont fall on a single vertical line \n",
    "# multi_panel=True tells scanpy to arrange the 3 plots neatly next to each other\n",
    "\n",
    "plt.show"
   ]
  },
  {
   "cell_type": "code",
   "execution_count": null,
   "id": "bb4be59e-6d2e-4a44-8703-8f090f880cbb",
   "metadata": {},
   "outputs": [],
   "source": [
    "#----QC and filtering---- \n",
    "\n",
    "print(f'Number of cells before filtering: {adata.n_obs}')\n",
    "adata = adata[adata.obs.n_genes_by_counts > 200, :]\n",
    "adata = adata[adata.obs.n_genes_by_counts < 2500, :]\n",
    "adata = adata[adata.obs.pct_counts_mt < 5, :]\n",
    "print(f'Number of cells after filtering: {adata.n_obs}')"
   ]
  },
  {
   "cell_type": "code",
   "execution_count": null,
   "id": "b2710481-3104-44dc-9235-bdbc85f36896",
   "metadata": {},
   "outputs": [],
   "source": [
    "#---Normalization, HVG Selection, & Scaling----\n",
    "\n",
    "#normalize and log transform\n",
    "#each cell to have a total of 10k molecules to correct for differences in library size(sequencing depth) per cell\n",
    "#pp- preprocessing, this function goes throgh each cell, scales its counts up/down so that the total count (target_sum) for each cell is 10k\n",
    "sc.pp.normalize_total(adata, target_sum=1e4)\n",
    "#by taking the natural log of the data, the variance will become more stable across genes with different expression levels\n",
    "#takes the data from previous step and applies a log transformation to all expression values; log1p: to avoid errors from taking the log of zero\n",
    "sc.pp.log1p(adata)\n",
    "print(\"normalization and log-transformation complete.\")\n",
    "\n",
    "#****saving a backup of the full data before we filter it****\n",
    "adata.raw=adata\n",
    "print('created a .raw backup of the full dataset.')"
   ]
  },
  {
   "cell_type": "code",
   "execution_count": null,
   "id": "00cf9036-4608-49e6-b4ed-eed027302613",
   "metadata": {},
   "outputs": [],
   "source": [
    "#---Normalization, HVG Selection, & Scaling----\n",
    "\n",
    "#we need to find genes whose expresssion levels change alot across different cells- HVGs - they hold the most bioloigcal information\n",
    "\n",
    "#identifies HVGs\n",
    "sc.pp.highly_variable_genes(adata, min_mean=0.0125, max_mean=3, min_disp=0.5)\n",
    "print(f'Number of highly variable genes found: {adata.var.highly_variable.sum()}')\n",
    "\n",
    "#plot results\n",
    "sc.pl.highly_variable_genes(adata)\n",
    "plt.show()"
   ]
  },
  {
   "cell_type": "code",
   "execution_count": null,
   "id": "b6e071f6-6d76-48fd-93c5-c275ca131855",
   "metadata": {},
   "outputs": [],
   "source": [
    "#---Normalization, HVG Selection, & Scaling---\n",
    "\n",
    "# to check if the correct data was stored\n",
    "adata.var['highly_variable'].value_counts()"
   ]
  },
  {
   "cell_type": "code",
   "execution_count": null,
   "id": "bb990c02-792f-4650-89a8-49392c2b7b19",
   "metadata": {},
   "outputs": [],
   "source": [
    "#---Normalization, HVG Selection, & Scaling----\n",
    "\n",
    "original_var_count = adata.n_vars\n",
    "print(f'original number of genes:{original_var_count}')\n",
    "\n",
    "#subsetting the AnnData object to only the HVG\n",
    "adata = adata[:, adata.var.highly_variable]\n",
    "print(f'subsetting to {adata.n_vars} highly variable genes.')\n",
    "\n",
    "#scaling the data\n",
    "sc.pp.scale(adata, max_value=10)\n",
    "print('\\nScaling complete.')"
   ]
  },
  {
   "cell_type": "code",
   "execution_count": null,
   "id": "8437a868-bd4a-4a44-b953-62e455c12f42",
   "metadata": {},
   "outputs": [],
   "source": [
    "#----PCA, Clustering, UMAP----- \n",
    "\n",
    "#run the PCA calculation, use the tl for tools function to do the math\n",
    "sc.tl.pca(adata, svd_solver='arpack')\n",
    "\n",
    "#plot the PCA analysis, and color the cells by the expression of the CST3 gene which is a monocyte marker\n",
    "sc.pl.pca(adata, color='CST3')\n",
    "plt.show()"
   ]
  },
  {
   "cell_type": "code",
   "execution_count": null,
   "id": "9365193f-f8d7-4af8-96ac-978567366a8d",
   "metadata": {},
   "outputs": [],
   "source": [
    "#----PCA, Clustering, UMAP----- \n",
    "\n",
    "#Elbow plot\n",
    "#plot the variance explained by each PC to find the \"elbow\" (shows how much variance each PC explains to the point (elbow) where adding another PC doesnt give us new info)\n",
    "sc.pl.pca_variance_ratio(adata, log=True)\n",
    "plt.show()\n",
    "\n",
    "#the amount of PCs is x-axis and vairance levels is y-axis"
   ]
  },
  {
   "cell_type": "code",
   "execution_count": null,
   "id": "18a6d696-257b-4d4b-9840-a5aa70f8e204",
   "metadata": {},
   "outputs": [],
   "source": [
    "#----PCA, Clustering, UMAP----- \n",
    "\n",
    "#neighborhood graph and clustering \n",
    "\n",
    "#using 10 PCs decided from the PC plot\n",
    "n_pcs_to_use = 10 \n",
    "print(f'Using {n_pcs_to_use} Principal Components for the next steps.')\n",
    "\n",
    "#computing the neighborhood graph to find the nearest neighbors for each cell in the PCA space\n",
    "sc.pp.neighbors(adata, n_neighbors=10, n_pcs=n_pcs_to_use)\n",
    "\n",
    "#cluster cells using the leiden algorithm to find the communities of cells in the neighborhood graph \n",
    "sc.tl.leiden(adata)\n",
    "\n",
    "print(f'\\nNeighborhood graph computed and cells have been clustered.')\n",
    "print(f\"The cluster labels are now stored in 'adata.obs['leiden']'.\")\n",
    "\n",
    "#first few rows of the observation metadata with a new leiden column with the cluster numbers\n",
    "adata.obs.head()"
   ]
  },
  {
   "cell_type": "code",
   "execution_count": null,
   "id": "11db10f5-401e-45e9-8979-b70f7a90c5f6",
   "metadata": {},
   "outputs": [],
   "source": [
    "#----PCA, Clustering, UMAP----- \n",
    "\n",
    "#visualizing clusters with UMAP\n",
    "sc.tl.umap(adata)\n",
    "\n",
    "#plotting UMAP colored by cluster\n",
    "sc.pl.umap(adata, color='leiden')\n",
    "plt.show()"
   ]
  },
  {
   "cell_type": "code",
   "execution_count": null,
   "id": "bddd5b95-9fa1-4e29-8fa5-2a5e4f93e6f2",
   "metadata": {},
   "outputs": [],
   "source": [
    "#----Marker gene annotation----- \n",
    "\n",
    "# finding marker genes for each cluster compared to other clusters\n",
    "sc.tl.rank_genes_groups(adata, groupby='leiden', method='t-test') #statistical test - t-test to find genes that are expressed differently in each leiden cluster and then sort into the adata object\n",
    "\n",
    "#plot the top marker genes for each cluster \n",
    "sc.pl.rank_genes_groups(adata, n_genes=25, sharey=False) #top 25 genes\n",
    "plt.show()\n",
    "\n",
    "print('done. ranked gene lists are now stored in the adata object.')"
   ]
  },
  {
   "cell_type": "code",
   "execution_count": null,
   "id": "00cf0c1e-e964-4eca-9f9f-1d7130abaff1",
   "metadata": {},
   "outputs": [],
   "source": [
    "#----Marker gene annotation----- \n",
    "\n",
    "#define a specific list of key marker genes to visualize\n",
    "#these genes are famous markers for the main immune cell types\n",
    "marker_genes_to_plot = ['IL7R', 'CD3D',  #T-cell markers\n",
    "                        'MS4A1', 'CD79A', #B-cell markers\n",
    "                        'LYZ', 'CST3',   #Monocyte markers\n",
    "                        'NKG7', 'GNLY',   #NK cell markers\n",
    "                        'PPBP']           #Platelet marker\n",
    "\n",
    "print(\"A specific list of marker genes has been created.\")\n",
    "\n",
    "\n",
    "#creating a dotplot and using the raw function to find marker genes\n",
    "sc.pl.dotplot(adata, marker_genes_to_plot, groupby='leiden', use_raw=True)\n",
    "plt.show()"
   ]
  },
  {
   "cell_type": "code",
   "execution_count": null,
   "id": "6afb2251-0ec2-43ff-9509-2762b1abefd2",
   "metadata": {},
   "outputs": [],
   "source": [
    "#----Marker gene annotation----- \n",
    "\n",
    "#visualizing the markers on UMAP using the marker genes\n",
    "sc.pl.umap(adata, color=['CD3D', 'MS4A1', 'LYZ', 'NKG7', 'IL7R', 'CD79A', 'CST3', 'GNLY', 'PPBP'], use_raw=True)\n",
    "plt.show()"
   ]
  },
  {
   "cell_type": "code",
   "execution_count": null,
   "id": "a4c1b11e-27dc-431f-a300-baa1a7c5ffad",
   "metadata": {},
   "outputs": [],
   "source": [
    "#---Setting up Biological Interpretation----\n",
    "\n",
    "#plotting UMAP with Leiden cluster on plot to study and identify the islands\n",
    "print('Reference UMAP with Leiden cluster IDs:')\n",
    "sc.pl.umap(adata, color='leiden', legend_loc='on data', title='Leiden Clusters')\n",
    "plt.show()"
   ]
  },
  {
   "cell_type": "code",
   "execution_count": null,
   "id": "5acadd8d-aef3-4f07-8b20-8e6caac7d162",
   "metadata": {},
   "outputs": [],
   "source": [
    "#---Setting up Biological Interpretation----\n",
    "\n",
    "#visualizing a panel of T-cell Markers\n",
    "print(\"Visualizing T-cell subtype markers...\")\n",
    "sc.pl.umap(adata, color=['CD3D', 'CD4', 'CD8A'], use_raw=True)\n",
    "plt.show()"
   ]
  },
  {
   "cell_type": "code",
   "execution_count": null,
   "id": "2681c284-5d02-4dd5-9de7-c5af33dbb531",
   "metadata": {},
   "outputs": [],
   "source": [
    "#for the clusters that cannot be identified via dotplot and umap...\n",
    "\n",
    "import pandas as pd\n",
    "\n",
    "print('top 5 marker genes for each cluster:')\n",
    "print(pd.DataFrame(adata.uns['rank_genes_groups']['names']).head(5))"
   ]
  },
  {
   "cell_type": "code",
   "execution_count": null,
   "id": "ee2c2970-b08e-48fa-a39e-2219597c629f",
   "metadata": {},
   "outputs": [],
   "source": [
    "#for the clusters that cannot be identified via dotplot and umap\n",
    "#replace '---' with the top gene you found for your cluster to confirm and view visually\n",
    "#sc.pl.umap(adata, color=['--'], use_raw=True)\n",
    "#plt.show"
   ]
  },
  {
   "cell_type": "code",
   "execution_count": null,
   "id": "c9df45f2-b353-4256-aa58-bbe7b4360b28",
   "metadata": {},
   "outputs": [],
   "source": [
    "#---Biological Interpretation----\n",
    "\n",
    "#creating a dictionary to map the cluster numbers to the cells types I identified \n",
    "final_cluster_to_celltype={'0': 'CD4 T-Cells',\n",
    " '1': 'B Cells',\n",
    " '2': 'Monocytes',\n",
    " '3': 'Stressed/Ribosomal proteins',\n",
    " '4': 'Stressed/Ribosomal proteins',\n",
    " '5': 'Monocytes',\n",
    " '6': 'NK Cells',\n",
    " '7': 'CD8 T-Cells',\n",
    " '8': 'Naive T-Cells',\n",
    " '9': 'Stressed/Ribosomal proteins',\n",
    " '10': 'Monocytes',\n",
    " '11': 'Stressed/Ribosomal proteins',\n",
    " '12': 'Doublets',\n",
    " '13': 'Dendritic Cells',\n",
    " '14': 'Platelets'}\n",
    "\n",
    "#creating a new column in data table called 'cell type' and convert leiden to string to be mapped by dictionary\n",
    "adata.obs['cell_type'] = adata.obs['leiden'].astype(str).map(final_cluster_to_celltype).astype('category')\n",
    "\n",
    "#final annotated UMAP\n",
    "print('\\nDisplying the final annotated UMAP plot:')\n",
    "sc.pl.umap(adata, color='cell_type', title='Final PBMC Cell Type Annotations', legend_loc='right margin' )\n",
    "plt.show()"
   ]
  },
  {
   "cell_type": "code",
   "execution_count": null,
   "id": "3c61db98-3f91-44a8-847f-dad54584b65b",
   "metadata": {},
   "outputs": [],
   "source": [
    "#-----Done!-----"
   ]
  }
 ],
 "metadata": {
  "kernelspec": {
   "display_name": "Python 3 (ipykernel)",
   "language": "python",
   "name": "python3"
  },
  "language_info": {
   "codemirror_mode": {
    "name": "ipython",
    "version": 3
   },
   "file_extension": ".py",
   "mimetype": "text/x-python",
   "name": "python",
   "nbconvert_exporter": "python",
   "pygments_lexer": "ipython3",
   "version": "3.12.9"
  }
 },
 "nbformat": 4,
 "nbformat_minor": 5
}
